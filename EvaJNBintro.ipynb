{
 "cells": [
  {
   "cell_type": "markdown",
   "id": "f310b51b-214a-4f83-824b-c3dc4ce12d23",
   "metadata": {},
   "source": [
    "# My Jupyter Notebook on IBM Watson Studio"
   ]
  },
  {
   "cell_type": "markdown",
   "id": "8a496190-198c-4f1b-bf54-32dd548d5755",
   "metadata": {},
   "source": [
    "**Evanjline Subitha** \\\n",
    "Data analyst"
   ]
  },
  {
   "cell_type": "markdown",
   "id": "382dcbaf-0789-4987-9722-ccd5ca3f5c58",
   "metadata": {},
   "source": [
    "*I am interested in data science because it's helpful in every field*"
   ]
  },
  {
   "cell_type": "markdown",
   "id": "bf9f3742-97d5-4908-9065-c6353c0905dd",
   "metadata": {},
   "source": [
    "### Addition of two numbers"
   ]
  },
  {
   "cell_type": "code",
   "execution_count": 2,
   "id": "45d27791-3352-44c0-942d-c11b37a59df5",
   "metadata": {},
   "outputs": [
    {
     "name": "stdout",
     "output_type": "stream",
     "text": [
      "sum of 7 and 2 is 9\n"
     ]
    }
   ],
   "source": [
    "print(\"sum of 7 and 2 is\",7+2)"
   ]
  },
  {
   "cell_type": "markdown",
   "id": "f0ed3b7a-b153-4bd9-95e8-e9e62eb05818",
   "metadata": {},
   "source": [
    "* Code explanation.\n",
    "1. first number was 7.\n",
    "3. second number was 2.\n",
    "4. sum was 9.\n",
    "* Table format of code\n",
    "|FirstNum|SecondNum|Sum|\n",
    "|--------|---------|---|\n",
    "|7|2|9|\n",
    "* Used bulleted list, Numbered list and table\n"
   ]
  },
  {
   "cell_type": "code",
   "execution_count": null,
   "id": "516c68e4-fe6e-4b4f-9f59-cc0e84cc15c7",
   "metadata": {},
   "outputs": [],
   "source": []
  }
 ],
 "metadata": {
  "kernelspec": {
   "display_name": "Python",
   "language": "python",
   "name": "conda-env-python-py"
  },
  "language_info": {
   "codemirror_mode": {
    "name": "ipython",
    "version": 3
   },
   "file_extension": ".py",
   "mimetype": "text/x-python",
   "name": "python",
   "nbconvert_exporter": "python",
   "pygments_lexer": "ipython3",
   "version": "3.7.12"
  }
 },
 "nbformat": 4,
 "nbformat_minor": 5
}
